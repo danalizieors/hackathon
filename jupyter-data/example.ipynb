{
 "cells": [
  {
   "cell_type": "code",
   "execution_count": 1,
   "metadata": {},
   "outputs": [
    {
     "name": "stdout",
     "output_type": "stream",
     "text": [
      "/home/jovyan/work/server\n"
     ]
    }
   ],
   "source": [
    "%cd /home/jovyan/work/server\n"
   ]
  },
  {
   "cell_type": "code",
   "execution_count": 2,
   "metadata": {},
   "outputs": [
    {
     "name": "stdout",
     "output_type": "stream",
     "text": [
      "========================================\n",
      "        users\n",
      "========================================\n",
      "Empty DataFrame\n",
      "Columns: [id, sex, year_of_birth, height, weight, fitness, pulse, sleep, noise, home_location, in_temperature, in_humidity]\n",
      "Index: []\n",
      "----------------------------------------\n",
      "\n",
      "========================================\n",
      "        posts\n",
      "========================================\n",
      "Empty DataFrame\n",
      "Columns: [id, user_id, symptom_id, time, location, temperature, pressure, humidity, wind, in_temperature, in_humidity, in_dust, in_noise, fitness, pulse, sleep]\n",
      "Index: []\n",
      "----------------------------------------\n",
      "\n",
      "========================================\n",
      "        links\n",
      "========================================\n",
      "Empty DataFrame\n",
      "Columns: [post_id_symptom, post_id_solution, id]\n",
      "Index: []\n",
      "----------------------------------------\n",
      "\n",
      "========================================\n",
      "        symptoms\n",
      "========================================\n",
      "Empty DataFrame\n",
      "Columns: [id, user_id, severity, suggestion_id]\n",
      "Index: []\n",
      "----------------------------------------\n",
      "\n",
      "========================================\n",
      "        suggestions\n",
      "========================================\n",
      "Empty DataFrame\n",
      "Columns: [id, user_id, textscore]\n",
      "Index: []\n",
      "----------------------------------------\n",
      "\n",
      "\n"
     ]
    }
   ],
   "source": [
    "from server.persistence.database import DATABASE\n"
   ]
  },
  {
   "cell_type": "code",
   "execution_count": null,
   "metadata": {},
   "outputs": [],
   "source": []
  }
 ],
 "metadata": {
  "kernelspec": {
   "display_name": "Python 3",
   "language": "python",
   "name": "python3"
  },
  "language_info": {
   "codemirror_mode": {
    "name": "ipython",
    "version": 3
   },
   "file_extension": ".py",
   "mimetype": "text/x-python",
   "name": "python",
   "nbconvert_exporter": "python",
   "pygments_lexer": "ipython3",
   "version": "3.7.3"
  }
 },
 "nbformat": 4,
 "nbformat_minor": 4
}
