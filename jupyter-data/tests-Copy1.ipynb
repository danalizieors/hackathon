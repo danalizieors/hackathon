{
 "cells": [
  {
   "cell_type": "code",
   "execution_count": 1,
   "metadata": {},
   "outputs": [
    {
     "name": "stdout",
     "output_type": "stream",
     "text": [
      "/home/jovyan/work/server\n"
     ]
    }
   ],
   "source": [
    "%cd /home/jovyan/work/server\n"
   ]
  },
  {
   "cell_type": "code",
   "execution_count": 2,
   "metadata": {},
   "outputs": [
    {
     "name": "stdout",
     "output_type": "stream",
     "text": [
      "[0 0 0 0 0 0 0 0 0 0 0 0 0 0 0 0 0 0 0 0 0 0 0 0 0 0 0 0 0 0 0 0 0 0 0 0 0\n",
      " 0 0 0 0 0 0 0 0 0 0 0 0 0 0 0 0 0 0 0 0 0 0 0 0 0 0 0 0 0 0 0 0 0 0 0 0 0\n",
      " 0 0 0 0 0 0 0 0 0 0 0 0 0 0 0 0 0 0 0 0 0 0 0 0 0 4 0 3 0 4 4 3 4 3 4 4 4\n",
      " 4 3 4 3 3 4 3 3 3 0 0 3 4 0 0 0 4 3 3 3 4 4 3 3 3 3 3 4 4 4 3 0 4 3 4 0 3\n",
      " 4 3 4 0 4 3 4 4 0 3 0 4 4 4 4 4 0 0 4 3 3 4 0 4 4 4 3 3 3 4 4 3 4 3 3 4 0\n",
      " 4 3 3 3 4 4 0 3 0 4 4 3 3 4 3 0 3 0 3 3 3 3 4 0 4 4 4 3 4 0 3 4 3 0 3 3 4\n",
      " 0 3 3 0 0 4 4 4 4 4 3 0 4 3 4 3 4 0 3 0 0 3 3 4 4 4 4 0 4 3 4 3 4 0 3 4 4\n",
      " 3 3 3 3 0 0 4 3 4 3 4 4 0 4 4 4 0 4 4 0 3 3 4 0 3 0 4 4 4 3 4 3 0 3 3 3 4\n",
      " 4 3 3 0 0 4 3 0 3 0 4 4 3 4 4 4 0 4 3 4 4 0 0 4 4 4 0 4 3 4 3 4 0 4 4 0 3\n",
      " 4 3 4 4 0 3 0 0 4 4 4 0 4 0 3 4 3 3 4 0 3 4 4 4 4 0 3 4 3 4 4 4 4 4 4 3 0\n",
      " 3 4 0 3 3 4 3 0 4 4 3 0 3 0 4 3 3 0 0 4 3 3 3 3 0 4 3 4 0 4 3 4 4 4 3 3 3\n",
      " 3 4 0 3 0 4 3 3 4 3 4 0 3 0 4 3 0 3 4 4 3 0 0 3 4 0 0 3 4 0 4 3 3 3 4 0 0\n",
      " 3 3 4 4 4 3 4 4 3 4 3 0 3 3 3 4 3 0 3 0 4 4 4 4 4 0 4 0 0 4 4 3 3 0 4 3 4\n",
      " 3 4 3 4 4 3 3 0 3 4 0 4 0 4 4 1 3 1 3 2 1 1 2 1 1 1 3 2 1 2 2 2 2 1 1 3 1\n",
      " 3 2 1 3 1 1 1 1 1 2 2 1 3 2 3 3 1 3 1 1 2 1 2 1 1 1 2 3 2 3 3 1 2 1 1 2 3\n",
      " 1 2 3 1 2 1 1 1 1 1 1 3 3 2 2 2 1 2 1 2 3 3 3 1 1 2 2 2 1 2 2 2 2 2 2 2 3\n",
      " 1 1 1 1 2 2 3 3 2 3 1 1 1 1 3 2 2 3 1 2 1 2 2 2 2 1 1 1 3 1 3 2 2 3 3 2 3\n",
      " 3 2 2 1 2 2 1 2 3 3 2 2 2 2 1 2 1 2 1 1 3 2 1 2 1 1 1 2 2 2 1 1 2 1 2 1 2\n",
      " 1 1 1 2 1 1 1 2 1 1 3 1 3 1 1 3 2 1 1 1 3 2 3 1 3 1 2 3 2]\n"
     ]
    }
   ],
   "source": [
    "from server.persistence.database import DATABASE\n",
    "import numpy as np\n",
    "\n",
    "#import sklearn.preprocessing.StandardScaler\n",
    "\n",
    "from sklearn.cluster import KMeans\n",
    "DATABASE.load('../database')\n",
    "\n",
    "\n",
    "for_kmeans = DATABASE.users[[\n",
    "    'year_of_birth',\n",
    "    'sex'\n",
    "]]\n",
    "\n",
    "cluster = KMeans(n_clusters = 5)\n",
    "bla = cluster.fit_predict(for_kmeans)\n",
    "\n",
    "print(bla)\n",
    "\n",
    "\n"
   ]
  },
  {
   "cell_type": "code",
   "execution_count": null,
   "metadata": {},
   "outputs": [],
   "source": []
  },
  {
   "cell_type": "code",
   "execution_count": null,
   "metadata": {},
   "outputs": [],
   "source": []
  }
 ],
 "metadata": {
  "kernelspec": {
   "display_name": "Python 3",
   "language": "python",
   "name": "python3"
  },
  "language_info": {
   "codemirror_mode": {
    "name": "ipython",
    "version": 3
   },
   "file_extension": ".py",
   "mimetype": "text/x-python",
   "name": "python",
   "nbconvert_exporter": "python",
   "pygments_lexer": "ipython3",
   "version": "3.7.3"
  }
 },
 "nbformat": 4,
 "nbformat_minor": 4
}
